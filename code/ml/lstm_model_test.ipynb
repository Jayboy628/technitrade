{
 "cells": [
  {
   "cell_type": "markdown",
   "id": "81d397cf-6e61-4bae-9188-e5eaca40744c",
   "metadata": {},
   "source": [
    "![header](../../img/logo.svg)\n",
    "\n",
    "**LSTM Model Class Test**"
   ]
  },
  {
   "cell_type": "code",
   "execution_count": 3,
   "id": "0f54935d-d43c-45c6-aa0d-fb70d3b9dd44",
   "metadata": {},
   "outputs": [],
   "source": [
    "import os\n",
    "\n",
    "# Technials Analysis Library\n",
    "os.chdir(\"../technicals\")\n",
    "import technicals\n",
    "\n",
    "# Market Data Connection\n",
    "os.chdir(\"../marketdata\")\n",
    "import alpaca\n",
    "\n",
    "# Machine Learning Model\n",
    "os.chdir(\"../ml\")\n",
    "import lstm_model"
   ]
  },
  {
   "cell_type": "markdown",
   "id": "a092b9bb-f659-4a36-9351-ad1a2d43d0d2",
   "metadata": {},
   "source": [
    "---"
   ]
  },
  {
   "cell_type": "markdown",
   "id": "ac2f5e52-c006-40f8-acf2-495d9fc05956",
   "metadata": {},
   "source": [
    "## Get data"
   ]
  },
  {
   "cell_type": "markdown",
   "id": "c897d4c2-d55c-40f9-9834-bc085f757f59",
   "metadata": {},
   "source": [
    "### *Get market data*"
   ]
  },
  {
   "cell_type": "code",
   "execution_count": 1,
   "id": "0f3ac6a9-754a-4177-a32f-aa2e3e1f8aa3",
   "metadata": {},
   "outputs": [
    {
     "name": "stdout",
     "output_type": "stream",
     "text": [
      "Start date : 2018-10-17\n",
      "End date : 2021-07-13\n"
     ]
    }
   ],
   "source": [
    "# Set market data date range \n",
    "from datetime import date, datetime, timedelta\n",
    "\n",
    "end_date  = datetime.now()\n",
    "start_date  = (end_date - timedelta(days=1000))\n",
    "\n",
    "start_date = start_date.strftime('%Y-%m-%d')\n",
    "end_date = end_date.strftime('%Y-%m-%d')\n",
    "\n",
    "print(f\"Start date : {start_date}\")\n",
    "print(f\"End date : {end_date}\")"
   ]
  },
  {
   "cell_type": "code",
   "execution_count": 4,
   "id": "938f5138-1522-40bd-967b-4a9acc121978",
   "metadata": {},
   "outputs": [],
   "source": [
    "# instantiate test ticker : Coca-Cola\n",
    "test_tickers = [\"KO\"]"
   ]
  },
  {
   "cell_type": "code",
   "execution_count": 4,
   "id": "7291e960-3f93-46d2-8697-c0c41356bb81",
   "metadata": {},
   "outputs": [],
   "source": [
    "# get market data using Alpaca API\n",
    "ohlcv_df = alpaca.ohlcv(test_tickers, start_date=start_date, end_date=end_date)"
   ]
  },
  {
   "cell_type": "markdown",
   "id": "113e84b2-7f8b-4923-9db0-b3bab76e4c5e",
   "metadata": {},
   "source": [
    "### *Get technical indicator data*"
   ]
  },
  {
   "cell_type": "code",
   "execution_count": 5,
   "id": "433ec7ef-5f91-4992-9e93-d1288c87047c",
   "metadata": {},
   "outputs": [],
   "source": [
    "# instantiate technical indicator class\n",
    "tech_ind = technicals.TechnicalAnalysis(ohlcv_df)"
   ]
  },
  {
   "cell_type": "code",
   "execution_count": 5,
   "id": "10ce1d64-da49-49ae-98ef-f7fce827f69c",
   "metadata": {},
   "outputs": [],
   "source": [
    "# loop through all tickers to implement the rest:"
   ]
  },
  {
   "cell_type": "code",
   "execution_count": 5,
   "id": "cc7825b8-fa9c-4244-b755-62b7a3b7b5c4",
   "metadata": {},
   "outputs": [
    {
     "data": {
      "text/html": [
       "<div>\n",
       "<style scoped>\n",
       "    .dataframe tbody tr th:only-of-type {\n",
       "        vertical-align: middle;\n",
       "    }\n",
       "\n",
       "    .dataframe tbody tr th {\n",
       "        vertical-align: top;\n",
       "    }\n",
       "\n",
       "    .dataframe thead th {\n",
       "        text-align: right;\n",
       "    }\n",
       "</style>\n",
       "<table border=\"1\" class=\"dataframe\">\n",
       "  <thead>\n",
       "    <tr style=\"text-align: right;\">\n",
       "      <th></th>\n",
       "      <th>open</th>\n",
       "      <th>high</th>\n",
       "      <th>low</th>\n",
       "      <th>close</th>\n",
       "      <th>volume</th>\n",
       "      <th>rsi</th>\n",
       "      <th>williams</th>\n",
       "      <th>mfi</th>\n",
       "      <th>stoch_k</th>\n",
       "      <th>macd</th>\n",
       "      <th>...</th>\n",
       "      <th>ma_50</th>\n",
       "      <th>ma_200</th>\n",
       "      <th>ema_7</th>\n",
       "      <th>ema_14</th>\n",
       "      <th>ema_21</th>\n",
       "      <th>highlow</th>\n",
       "      <th>closeopen</th>\n",
       "      <th>bb_high</th>\n",
       "      <th>bb_low</th>\n",
       "      <th>pvt</th>\n",
       "    </tr>\n",
       "    <tr>\n",
       "      <th>time</th>\n",
       "      <th></th>\n",
       "      <th></th>\n",
       "      <th></th>\n",
       "      <th></th>\n",
       "      <th></th>\n",
       "      <th></th>\n",
       "      <th></th>\n",
       "      <th></th>\n",
       "      <th></th>\n",
       "      <th></th>\n",
       "      <th></th>\n",
       "      <th></th>\n",
       "      <th></th>\n",
       "      <th></th>\n",
       "      <th></th>\n",
       "      <th></th>\n",
       "      <th></th>\n",
       "      <th></th>\n",
       "      <th></th>\n",
       "      <th></th>\n",
       "      <th></th>\n",
       "    </tr>\n",
       "  </thead>\n",
       "  <tbody>\n",
       "    <tr>\n",
       "      <th>2018-10-17 00:00:00-04:00</th>\n",
       "      <td>45.41</td>\n",
       "      <td>45.990</td>\n",
       "      <td>45.360</td>\n",
       "      <td>45.855</td>\n",
       "      <td>8034046</td>\n",
       "      <td>0.000000</td>\n",
       "      <td>0.0</td>\n",
       "      <td>0.0</td>\n",
       "      <td>0.0</td>\n",
       "      <td>0.000000</td>\n",
       "      <td>...</td>\n",
       "      <td>0.0</td>\n",
       "      <td>0.0</td>\n",
       "      <td>45.855000</td>\n",
       "      <td>45.855000</td>\n",
       "      <td>45.855000</td>\n",
       "      <td>0.630</td>\n",
       "      <td>0.445</td>\n",
       "      <td>0.0</td>\n",
       "      <td>0.0</td>\n",
       "      <td>0.000000</td>\n",
       "    </tr>\n",
       "    <tr>\n",
       "      <th>2018-10-18 00:00:00-04:00</th>\n",
       "      <td>45.90</td>\n",
       "      <td>46.080</td>\n",
       "      <td>45.455</td>\n",
       "      <td>45.640</td>\n",
       "      <td>9403895</td>\n",
       "      <td>0.000000</td>\n",
       "      <td>0.0</td>\n",
       "      <td>0.0</td>\n",
       "      <td>0.0</td>\n",
       "      <td>-0.004824</td>\n",
       "      <td>...</td>\n",
       "      <td>0.0</td>\n",
       "      <td>0.0</td>\n",
       "      <td>45.732143</td>\n",
       "      <td>45.739821</td>\n",
       "      <td>45.742381</td>\n",
       "      <td>0.625</td>\n",
       "      <td>-0.260</td>\n",
       "      <td>0.0</td>\n",
       "      <td>0.0</td>\n",
       "      <td>0.000000</td>\n",
       "    </tr>\n",
       "    <tr>\n",
       "      <th>2018-10-19 00:00:00-04:00</th>\n",
       "      <td>45.82</td>\n",
       "      <td>46.490</td>\n",
       "      <td>45.820</td>\n",
       "      <td>46.320</td>\n",
       "      <td>11087680</td>\n",
       "      <td>18.428184</td>\n",
       "      <td>0.0</td>\n",
       "      <td>0.0</td>\n",
       "      <td>0.0</td>\n",
       "      <td>0.014940</td>\n",
       "      <td>...</td>\n",
       "      <td>0.0</td>\n",
       "      <td>0.0</td>\n",
       "      <td>45.986351</td>\n",
       "      <td>45.961452</td>\n",
       "      <td>45.953535</td>\n",
       "      <td>0.670</td>\n",
       "      <td>0.500</td>\n",
       "      <td>0.0</td>\n",
       "      <td>0.0</td>\n",
       "      <td>209289.659307</td>\n",
       "    </tr>\n",
       "    <tr>\n",
       "      <th>2018-10-22 00:00:00-04:00</th>\n",
       "      <td>46.37</td>\n",
       "      <td>46.455</td>\n",
       "      <td>45.810</td>\n",
       "      <td>45.960</td>\n",
       "      <td>8837220</td>\n",
       "      <td>16.684192</td>\n",
       "      <td>0.0</td>\n",
       "      <td>0.0</td>\n",
       "      <td>0.0</td>\n",
       "      <td>0.010566</td>\n",
       "      <td>...</td>\n",
       "      <td>0.0</td>\n",
       "      <td>0.0</td>\n",
       "      <td>45.976714</td>\n",
       "      <td>45.961008</td>\n",
       "      <td>45.955389</td>\n",
       "      <td>0.645</td>\n",
       "      <td>-0.410</td>\n",
       "      <td>0.0</td>\n",
       "      <td>0.0</td>\n",
       "      <td>-233880.743235</td>\n",
       "    </tr>\n",
       "    <tr>\n",
       "      <th>2018-10-23 00:00:00-04:00</th>\n",
       "      <td>45.62</td>\n",
       "      <td>46.455</td>\n",
       "      <td>45.450</td>\n",
       "      <td>46.360</td>\n",
       "      <td>14166742</td>\n",
       "      <td>25.120382</td>\n",
       "      <td>0.0</td>\n",
       "      <td>0.0</td>\n",
       "      <td>0.0</td>\n",
       "      <td>0.023883</td>\n",
       "      <td>...</td>\n",
       "      <td>0.0</td>\n",
       "      <td>0.0</td>\n",
       "      <td>46.102350</td>\n",
       "      <td>46.065104</td>\n",
       "      <td>46.052421</td>\n",
       "      <td>1.005</td>\n",
       "      <td>0.740</td>\n",
       "      <td>0.0</td>\n",
       "      <td>0.0</td>\n",
       "      <td>191979.332017</td>\n",
       "    </tr>\n",
       "  </tbody>\n",
       "</table>\n",
       "<p>5 rows × 21 columns</p>\n",
       "</div>"
      ],
      "text/plain": [
       "                            open    high     low   close    volume        rsi  \\\n",
       "time                                                                            \n",
       "2018-10-17 00:00:00-04:00  45.41  45.990  45.360  45.855   8034046   0.000000   \n",
       "2018-10-18 00:00:00-04:00  45.90  46.080  45.455  45.640   9403895   0.000000   \n",
       "2018-10-19 00:00:00-04:00  45.82  46.490  45.820  46.320  11087680  18.428184   \n",
       "2018-10-22 00:00:00-04:00  46.37  46.455  45.810  45.960   8837220  16.684192   \n",
       "2018-10-23 00:00:00-04:00  45.62  46.455  45.450  46.360  14166742  25.120382   \n",
       "\n",
       "                           williams  mfi  stoch_k      macd  ...  ma_50  \\\n",
       "time                                                         ...          \n",
       "2018-10-17 00:00:00-04:00       0.0  0.0      0.0  0.000000  ...    0.0   \n",
       "2018-10-18 00:00:00-04:00       0.0  0.0      0.0 -0.004824  ...    0.0   \n",
       "2018-10-19 00:00:00-04:00       0.0  0.0      0.0  0.014940  ...    0.0   \n",
       "2018-10-22 00:00:00-04:00       0.0  0.0      0.0  0.010566  ...    0.0   \n",
       "2018-10-23 00:00:00-04:00       0.0  0.0      0.0  0.023883  ...    0.0   \n",
       "\n",
       "                           ma_200      ema_7     ema_14     ema_21  highlow  \\\n",
       "time                                                                          \n",
       "2018-10-17 00:00:00-04:00     0.0  45.855000  45.855000  45.855000    0.630   \n",
       "2018-10-18 00:00:00-04:00     0.0  45.732143  45.739821  45.742381    0.625   \n",
       "2018-10-19 00:00:00-04:00     0.0  45.986351  45.961452  45.953535    0.670   \n",
       "2018-10-22 00:00:00-04:00     0.0  45.976714  45.961008  45.955389    0.645   \n",
       "2018-10-23 00:00:00-04:00     0.0  46.102350  46.065104  46.052421    1.005   \n",
       "\n",
       "                           closeopen  bb_high  bb_low            pvt  \n",
       "time                                                                  \n",
       "2018-10-17 00:00:00-04:00      0.445      0.0     0.0       0.000000  \n",
       "2018-10-18 00:00:00-04:00     -0.260      0.0     0.0       0.000000  \n",
       "2018-10-19 00:00:00-04:00      0.500      0.0     0.0  209289.659307  \n",
       "2018-10-22 00:00:00-04:00     -0.410      0.0     0.0 -233880.743235  \n",
       "2018-10-23 00:00:00-04:00      0.740      0.0     0.0  191979.332017  \n",
       "\n",
       "[5 rows x 21 columns]"
      ]
     },
     "execution_count": 5,
     "metadata": {},
     "output_type": "execute_result"
    }
   ],
   "source": [
    "# get all technical indicators\n",
    "df = tech_ind.get_all_technicals(test_tickers[0])\n",
    "\n",
    "# preview data\n",
    "df.head()"
   ]
  },
  {
   "cell_type": "markdown",
   "id": "2bb0e4df-eeab-40c8-ad79-644f0523d397",
   "metadata": {},
   "source": [
    "---"
   ]
  },
  {
   "cell_type": "markdown",
   "id": "f0c15666-b6d3-41ef-8642-bb81f98803a5",
   "metadata": {},
   "source": [
    "## Build and train LSTM Model"
   ]
  },
  {
   "cell_type": "code",
   "execution_count": 6,
   "id": "a919de6e-47e3-4348-a405-3e90f094f4ae",
   "metadata": {},
   "outputs": [],
   "source": [
    "# instantiate MachineLearningModel class\n",
    "model = lstm_model.MachineLearningModel(df)"
   ]
  },
  {
   "cell_type": "code",
   "execution_count": 7,
   "id": "8aa3813e-03a6-40ff-a595-8d07b05c9d10",
   "metadata": {},
   "outputs": [
    {
     "name": "stderr",
     "output_type": "stream",
     "text": [
      "C:\\Users\\illya\\anaconda3\\envs\\cu_proj_2\\lib\\site-packages\\pandas\\core\\frame.py:4315: SettingWithCopyWarning: \n",
      "A value is trying to be set on a copy of a slice from a DataFrame\n",
      "\n",
      "See the caveats in the documentation: https://pandas.pydata.org/pandas-docs/stable/user_guide/indexing.html#returning-a-view-versus-a-copy\n",
      "  errors=errors,\n"
     ]
    },
    {
     "name": "stdout",
     "output_type": "stream",
     "text": [
      "Model: \"sequential\"\n",
      "_________________________________________________________________\n",
      "Layer (type)                 Output Shape              Param #   \n",
      "=================================================================\n",
      "lstm (LSTM)                  (None, 100, 90)           38880     \n",
      "_________________________________________________________________\n",
      "lstm_1 (LSTM)                (None, 100, 30)           14520     \n",
      "_________________________________________________________________\n",
      "lstm_2 (LSTM)                (None, 30)                7320      \n",
      "_________________________________________________________________\n",
      "dense (Dense)                (None, 14)                434       \n",
      "=================================================================\n",
      "Total params: 61,154\n",
      "Trainable params: 61,154\n",
      "Non-trainable params: 0\n",
      "_________________________________________________________________\n"
     ]
    }
   ],
   "source": [
    "# build and train model\n",
    "hist = model.build_model(summary=0, verbose=0)"
   ]
  },
  {
   "cell_type": "code",
   "execution_count": null,
   "id": "6d0a07e6-a2c6-48bd-88e1-42eb5820bbe2",
   "metadata": {
    "tags": []
   },
   "outputs": [],
   "source": [
    "# not production\n",
    "# visualize validation loss, validation, validation accuracy, accuracy\n",
    "# model.visualize_training_results(hist=hist)"
   ]
  },
  {
   "cell_type": "code",
   "execution_count": null,
   "id": "624585f7-cbd1-4c8e-bafe-2f25a78a4f84",
   "metadata": {},
   "outputs": [],
   "source": [
    "# not production\n",
    "# validate model - get predicted stock proces\n",
    "# model.validate()"
   ]
  },
  {
   "cell_type": "code",
   "execution_count": null,
   "id": "5cd5e00c-9edb-456e-a321-c5968a6173ae",
   "metadata": {},
   "outputs": [],
   "source": [
    "# not production\n",
    "# visualize predicted stock price and actual stock price\n",
    "# model.visualize_training_price()"
   ]
  },
  {
   "cell_type": "code",
   "execution_count": null,
   "id": "db36a368-fbc4-4bc3-829a-e218d3653512",
   "metadata": {},
   "outputs": [],
   "source": [
    "# not production\n",
    "# get and print Root Mean Square Error\n",
    "# print(f\"RMS Error : {model.rmse_value}\")"
   ]
  },
  {
   "cell_type": "code",
   "execution_count": 8,
   "id": "690527d0-231c-4859-aedb-b97c1d3902a3",
   "metadata": {},
   "outputs": [],
   "source": [
    "# save model\n",
    "model.save_model('proj2_test_model_1')"
   ]
  },
  {
   "cell_type": "markdown",
   "id": "d19e68e1-072a-43df-a6b4-35f1c8cb7b2a",
   "metadata": {},
   "source": [
    "---"
   ]
  },
  {
   "cell_type": "markdown",
   "id": "ff0ffd37-22f6-43cc-a532-31700f31a1d4",
   "metadata": {},
   "source": [
    "## Forecast stock price"
   ]
  },
  {
   "cell_type": "markdown",
   "id": "8eca7b44-5734-4767-b14b-fe2b29f597b2",
   "metadata": {},
   "source": [
    "### *Get market data*"
   ]
  },
  {
   "cell_type": "code",
   "execution_count": 9,
   "id": "5aec6bdc-b139-4965-87a1-deef9b7fa6c7",
   "metadata": {},
   "outputs": [
    {
     "name": "stdout",
     "output_type": "stream",
     "text": [
      "Forecast start date : 2020-12-25\n",
      "Forecast end date : 2021-07-13\n"
     ]
    }
   ],
   "source": [
    "# Set market data date range \n",
    "from datetime import date, datetime, timedelta\n",
    "\n",
    "forecast_end_date  = datetime.now()\n",
    "forecast_start_date  = (forecast_end_date - timedelta(days=200))\n",
    "\n",
    "forecast_start_date = forecast_start_date.strftime('%Y-%m-%d')\n",
    "forecast_end_date = forecast_end_date.strftime('%Y-%m-%d')\n",
    "\n",
    "print(f\"Forecast start date : {forecast_start_date}\")\n",
    "print(f\"Forecast end date : {forecast_end_date}\")"
   ]
  },
  {
   "cell_type": "code",
   "execution_count": 10,
   "id": "566cef8c-cc13-4c95-9f40-29652f4040a1",
   "metadata": {},
   "outputs": [],
   "source": [
    "# Load the dataset\n",
    "forecast_ohlcv_df = alpaca.ohlcv(test_tickers, \n",
    "                                 start_date=forecast_start_date, \n",
    "                                 end_date=forecast_end_date)"
   ]
  },
  {
   "cell_type": "markdown",
   "id": "6697c876-7ead-4aa2-b298-d7b4c5d372f2",
   "metadata": {},
   "source": [
    "### *Calculate technical analysis data*"
   ]
  },
  {
   "cell_type": "code",
   "execution_count": 11,
   "id": "6abc72cb-e7a1-429b-864b-0ca3b0334156",
   "metadata": {},
   "outputs": [],
   "source": [
    "forecast_tech_ind = technicals.TechnicalAnalysis(forecast_ohlcv_df)"
   ]
  },
  {
   "cell_type": "code",
   "execution_count": 12,
   "id": "46e3b287-461a-4215-bbf0-24211f2f70b4",
   "metadata": {},
   "outputs": [
    {
     "data": {
      "text/html": [
       "<div>\n",
       "<style scoped>\n",
       "    .dataframe tbody tr th:only-of-type {\n",
       "        vertical-align: middle;\n",
       "    }\n",
       "\n",
       "    .dataframe tbody tr th {\n",
       "        vertical-align: top;\n",
       "    }\n",
       "\n",
       "    .dataframe thead th {\n",
       "        text-align: right;\n",
       "    }\n",
       "</style>\n",
       "<table border=\"1\" class=\"dataframe\">\n",
       "  <thead>\n",
       "    <tr style=\"text-align: right;\">\n",
       "      <th></th>\n",
       "      <th>open</th>\n",
       "      <th>high</th>\n",
       "      <th>low</th>\n",
       "      <th>close</th>\n",
       "      <th>volume</th>\n",
       "      <th>rsi</th>\n",
       "      <th>williams</th>\n",
       "      <th>mfi</th>\n",
       "      <th>stoch_k</th>\n",
       "      <th>macd</th>\n",
       "      <th>...</th>\n",
       "      <th>ma_50</th>\n",
       "      <th>ma_200</th>\n",
       "      <th>ema_7</th>\n",
       "      <th>ema_14</th>\n",
       "      <th>ema_21</th>\n",
       "      <th>highlow</th>\n",
       "      <th>closeopen</th>\n",
       "      <th>bb_high</th>\n",
       "      <th>bb_low</th>\n",
       "      <th>pvt</th>\n",
       "    </tr>\n",
       "    <tr>\n",
       "      <th>time</th>\n",
       "      <th></th>\n",
       "      <th></th>\n",
       "      <th></th>\n",
       "      <th></th>\n",
       "      <th></th>\n",
       "      <th></th>\n",
       "      <th></th>\n",
       "      <th></th>\n",
       "      <th></th>\n",
       "      <th></th>\n",
       "      <th></th>\n",
       "      <th></th>\n",
       "      <th></th>\n",
       "      <th></th>\n",
       "      <th></th>\n",
       "      <th></th>\n",
       "      <th></th>\n",
       "      <th></th>\n",
       "      <th></th>\n",
       "      <th></th>\n",
       "      <th></th>\n",
       "    </tr>\n",
       "  </thead>\n",
       "  <tbody>\n",
       "    <tr>\n",
       "      <th>2020-12-28 00:00:00-05:00</th>\n",
       "      <td>53.85</td>\n",
       "      <td>54.435</td>\n",
       "      <td>53.73</td>\n",
       "      <td>54.15</td>\n",
       "      <td>6939826</td>\n",
       "      <td>0.000000</td>\n",
       "      <td>0.0</td>\n",
       "      <td>0.0</td>\n",
       "      <td>0.0</td>\n",
       "      <td>0.000000</td>\n",
       "      <td>...</td>\n",
       "      <td>0.0</td>\n",
       "      <td>0.0</td>\n",
       "      <td>54.150000</td>\n",
       "      <td>54.150000</td>\n",
       "      <td>54.150000</td>\n",
       "      <td>0.705</td>\n",
       "      <td>0.30</td>\n",
       "      <td>0.0</td>\n",
       "      <td>0.0</td>\n",
       "      <td>0.000000</td>\n",
       "    </tr>\n",
       "    <tr>\n",
       "      <th>2020-12-29 00:00:00-05:00</th>\n",
       "      <td>54.45</td>\n",
       "      <td>54.490</td>\n",
       "      <td>54.02</td>\n",
       "      <td>54.14</td>\n",
       "      <td>6788060</td>\n",
       "      <td>0.000000</td>\n",
       "      <td>0.0</td>\n",
       "      <td>0.0</td>\n",
       "      <td>0.0</td>\n",
       "      <td>-0.000224</td>\n",
       "      <td>...</td>\n",
       "      <td>0.0</td>\n",
       "      <td>0.0</td>\n",
       "      <td>54.144286</td>\n",
       "      <td>54.144643</td>\n",
       "      <td>54.144762</td>\n",
       "      <td>0.470</td>\n",
       "      <td>-0.31</td>\n",
       "      <td>0.0</td>\n",
       "      <td>0.0</td>\n",
       "      <td>0.000000</td>\n",
       "    </tr>\n",
       "    <tr>\n",
       "      <th>2020-12-30 00:00:00-05:00</th>\n",
       "      <td>54.05</td>\n",
       "      <td>54.630</td>\n",
       "      <td>54.03</td>\n",
       "      <td>54.45</td>\n",
       "      <td>6576305</td>\n",
       "      <td>68.888889</td>\n",
       "      <td>0.0</td>\n",
       "      <td>0.0</td>\n",
       "      <td>0.0</td>\n",
       "      <td>0.009327</td>\n",
       "      <td>...</td>\n",
       "      <td>0.0</td>\n",
       "      <td>0.0</td>\n",
       "      <td>54.276486</td>\n",
       "      <td>54.261290</td>\n",
       "      <td>54.256344</td>\n",
       "      <td>0.600</td>\n",
       "      <td>0.40</td>\n",
       "      <td>0.0</td>\n",
       "      <td>0.0</td>\n",
       "      <td>38908.803368</td>\n",
       "    </tr>\n",
       "    <tr>\n",
       "      <th>2020-12-31 00:00:00-05:00</th>\n",
       "      <td>54.45</td>\n",
       "      <td>54.930</td>\n",
       "      <td>54.27</td>\n",
       "      <td>54.82</td>\n",
       "      <td>6204398</td>\n",
       "      <td>83.459916</td>\n",
       "      <td>0.0</td>\n",
       "      <td>0.0</td>\n",
       "      <td>0.0</td>\n",
       "      <td>0.026802</td>\n",
       "      <td>...</td>\n",
       "      <td>0.0</td>\n",
       "      <td>0.0</td>\n",
       "      <td>54.475257</td>\n",
       "      <td>54.432215</td>\n",
       "      <td>54.417996</td>\n",
       "      <td>0.660</td>\n",
       "      <td>0.37</td>\n",
       "      <td>0.0</td>\n",
       "      <td>0.0</td>\n",
       "      <td>4505.042909</td>\n",
       "    </tr>\n",
       "    <tr>\n",
       "      <th>2021-01-04 00:00:00-05:00</th>\n",
       "      <td>54.27</td>\n",
       "      <td>54.630</td>\n",
       "      <td>52.03</td>\n",
       "      <td>52.76</td>\n",
       "      <td>22202518</td>\n",
       "      <td>21.998729</td>\n",
       "      <td>0.0</td>\n",
       "      <td>0.0</td>\n",
       "      <td>0.0</td>\n",
       "      <td>-0.046240</td>\n",
       "      <td>...</td>\n",
       "      <td>0.0</td>\n",
       "      <td>0.0</td>\n",
       "      <td>53.913022</td>\n",
       "      <td>53.995937</td>\n",
       "      <td>54.020382</td>\n",
       "      <td>2.600</td>\n",
       "      <td>-1.51</td>\n",
       "      <td>0.0</td>\n",
       "      <td>0.0</td>\n",
       "      <td>-876475.987663</td>\n",
       "    </tr>\n",
       "  </tbody>\n",
       "</table>\n",
       "<p>5 rows × 21 columns</p>\n",
       "</div>"
      ],
      "text/plain": [
       "                            open    high    low  close    volume        rsi  \\\n",
       "time                                                                          \n",
       "2020-12-28 00:00:00-05:00  53.85  54.435  53.73  54.15   6939826   0.000000   \n",
       "2020-12-29 00:00:00-05:00  54.45  54.490  54.02  54.14   6788060   0.000000   \n",
       "2020-12-30 00:00:00-05:00  54.05  54.630  54.03  54.45   6576305  68.888889   \n",
       "2020-12-31 00:00:00-05:00  54.45  54.930  54.27  54.82   6204398  83.459916   \n",
       "2021-01-04 00:00:00-05:00  54.27  54.630  52.03  52.76  22202518  21.998729   \n",
       "\n",
       "                           williams  mfi  stoch_k      macd  ...  ma_50  \\\n",
       "time                                                         ...          \n",
       "2020-12-28 00:00:00-05:00       0.0  0.0      0.0  0.000000  ...    0.0   \n",
       "2020-12-29 00:00:00-05:00       0.0  0.0      0.0 -0.000224  ...    0.0   \n",
       "2020-12-30 00:00:00-05:00       0.0  0.0      0.0  0.009327  ...    0.0   \n",
       "2020-12-31 00:00:00-05:00       0.0  0.0      0.0  0.026802  ...    0.0   \n",
       "2021-01-04 00:00:00-05:00       0.0  0.0      0.0 -0.046240  ...    0.0   \n",
       "\n",
       "                           ma_200      ema_7     ema_14     ema_21  highlow  \\\n",
       "time                                                                          \n",
       "2020-12-28 00:00:00-05:00     0.0  54.150000  54.150000  54.150000    0.705   \n",
       "2020-12-29 00:00:00-05:00     0.0  54.144286  54.144643  54.144762    0.470   \n",
       "2020-12-30 00:00:00-05:00     0.0  54.276486  54.261290  54.256344    0.600   \n",
       "2020-12-31 00:00:00-05:00     0.0  54.475257  54.432215  54.417996    0.660   \n",
       "2021-01-04 00:00:00-05:00     0.0  53.913022  53.995937  54.020382    2.600   \n",
       "\n",
       "                           closeopen  bb_high  bb_low            pvt  \n",
       "time                                                                  \n",
       "2020-12-28 00:00:00-05:00       0.30      0.0     0.0       0.000000  \n",
       "2020-12-29 00:00:00-05:00      -0.31      0.0     0.0       0.000000  \n",
       "2020-12-30 00:00:00-05:00       0.40      0.0     0.0   38908.803368  \n",
       "2020-12-31 00:00:00-05:00       0.37      0.0     0.0    4505.042909  \n",
       "2021-01-04 00:00:00-05:00      -1.51      0.0     0.0 -876475.987663  \n",
       "\n",
       "[5 rows x 21 columns]"
      ]
     },
     "execution_count": 12,
     "metadata": {},
     "output_type": "execute_result"
    }
   ],
   "source": [
    "forecast_df = forecast_tech_ind.get_all_technicals(test_tickers[0])\n",
    "# forecast_df.head()"
   ]
  },
  {
   "cell_type": "markdown",
   "id": "de2aae7d-a57a-484a-806c-24bdbea5e9c6",
   "metadata": {},
   "source": [
    "### *Predict stock price based on previously trained model*"
   ]
  },
  {
   "cell_type": "code",
   "execution_count": 13,
   "id": "5f4af3a3-5c07-4355-a3d7-bfbdc62417b3",
   "metadata": {},
   "outputs": [],
   "source": [
    "# instantiate ForecastPrice class\n",
    "forecast_model = lstm_model.ForecastPrice(forecast_df)"
   ]
  },
  {
   "cell_type": "code",
   "execution_count": 15,
   "id": "2f71799d-a377-4d37-8fc3-d57bbf5014ec",
   "metadata": {},
   "outputs": [],
   "source": [
    "# load model\n",
    "forecast_model.load_model('proj2_test_model_1.h5')"
   ]
  },
  {
   "cell_type": "code",
   "execution_count": null,
   "id": "75f62450-8805-4c20-9cb3-7d28535bf265",
   "metadata": {},
   "outputs": [],
   "source": [
    "# not production\n",
    "# get model summary\n",
    "# forecast_model.get_model_summary()"
   ]
  },
  {
   "cell_type": "code",
   "execution_count": 16,
   "id": "b195e6ba-2518-4832-8f5e-fd4c597ed4cf",
   "metadata": {},
   "outputs": [
    {
     "name": "stderr",
     "output_type": "stream",
     "text": [
      "C:\\Users\\illya\\anaconda3\\envs\\cu_proj_2\\lib\\site-packages\\pandas\\core\\frame.py:4315: SettingWithCopyWarning: \n",
      "A value is trying to be set on a copy of a slice from a DataFrame\n",
      "\n",
      "See the caveats in the documentation: https://pandas.pydata.org/pandas-docs/stable/user_guide/indexing.html#returning-a-view-versus-a-copy\n",
      "  errors=errors,\n"
     ]
    }
   ],
   "source": [
    "preds = forecast_model.forecast()"
   ]
  },
  {
   "cell_type": "code",
   "execution_count": 17,
   "id": "9a837735-830c-4524-a1bb-5f00b108a4d3",
   "metadata": {},
   "outputs": [
    {
     "data": {
      "text/html": [
       "<div>\n",
       "<style scoped>\n",
       "    .dataframe tbody tr th:only-of-type {\n",
       "        vertical-align: middle;\n",
       "    }\n",
       "\n",
       "    .dataframe tbody tr th {\n",
       "        vertical-align: top;\n",
       "    }\n",
       "\n",
       "    .dataframe thead th {\n",
       "        text-align: right;\n",
       "    }\n",
       "</style>\n",
       "<table border=\"1\" class=\"dataframe\">\n",
       "  <thead>\n",
       "    <tr style=\"text-align: right;\">\n",
       "      <th></th>\n",
       "      <th>close</th>\n",
       "    </tr>\n",
       "  </thead>\n",
       "  <tbody>\n",
       "    <tr>\n",
       "      <th>2021-07-14 00:00:00-04:00</th>\n",
       "      <td>55.980099</td>\n",
       "    </tr>\n",
       "    <tr>\n",
       "      <th>2021-07-15 00:00:00-04:00</th>\n",
       "      <td>56.051311</td>\n",
       "    </tr>\n",
       "    <tr>\n",
       "      <th>2021-07-16 00:00:00-04:00</th>\n",
       "      <td>56.309898</td>\n",
       "    </tr>\n",
       "    <tr>\n",
       "      <th>2021-07-19 00:00:00-04:00</th>\n",
       "      <td>56.090801</td>\n",
       "    </tr>\n",
       "    <tr>\n",
       "      <th>2021-07-20 00:00:00-04:00</th>\n",
       "      <td>56.283718</td>\n",
       "    </tr>\n",
       "    <tr>\n",
       "      <th>2021-07-21 00:00:00-04:00</th>\n",
       "      <td>56.423302</td>\n",
       "    </tr>\n",
       "    <tr>\n",
       "      <th>2021-07-22 00:00:00-04:00</th>\n",
       "      <td>56.409180</td>\n",
       "    </tr>\n",
       "    <tr>\n",
       "      <th>2021-07-23 00:00:00-04:00</th>\n",
       "      <td>56.166405</td>\n",
       "    </tr>\n",
       "    <tr>\n",
       "      <th>2021-07-26 00:00:00-04:00</th>\n",
       "      <td>56.293369</td>\n",
       "    </tr>\n",
       "    <tr>\n",
       "      <th>2021-07-27 00:00:00-04:00</th>\n",
       "      <td>56.047096</td>\n",
       "    </tr>\n",
       "    <tr>\n",
       "      <th>2021-07-28 00:00:00-04:00</th>\n",
       "      <td>56.284634</td>\n",
       "    </tr>\n",
       "    <tr>\n",
       "      <th>2021-07-29 00:00:00-04:00</th>\n",
       "      <td>56.450314</td>\n",
       "    </tr>\n",
       "    <tr>\n",
       "      <th>2021-07-30 00:00:00-04:00</th>\n",
       "      <td>56.086742</td>\n",
       "    </tr>\n",
       "    <tr>\n",
       "      <th>2021-08-02 00:00:00-04:00</th>\n",
       "      <td>56.144238</td>\n",
       "    </tr>\n",
       "  </tbody>\n",
       "</table>\n",
       "</div>"
      ],
      "text/plain": [
       "                               close\n",
       "2021-07-14 00:00:00-04:00  55.980099\n",
       "2021-07-15 00:00:00-04:00  56.051311\n",
       "2021-07-16 00:00:00-04:00  56.309898\n",
       "2021-07-19 00:00:00-04:00  56.090801\n",
       "2021-07-20 00:00:00-04:00  56.283718\n",
       "2021-07-21 00:00:00-04:00  56.423302\n",
       "2021-07-22 00:00:00-04:00  56.409180\n",
       "2021-07-23 00:00:00-04:00  56.166405\n",
       "2021-07-26 00:00:00-04:00  56.293369\n",
       "2021-07-27 00:00:00-04:00  56.047096\n",
       "2021-07-28 00:00:00-04:00  56.284634\n",
       "2021-07-29 00:00:00-04:00  56.450314\n",
       "2021-07-30 00:00:00-04:00  56.086742\n",
       "2021-08-02 00:00:00-04:00  56.144238"
      ]
     },
     "execution_count": 17,
     "metadata": {},
     "output_type": "execute_result"
    }
   ],
   "source": [
    "# not production\n",
    "preds"
   ]
  },
  {
   "cell_type": "code",
   "execution_count": null,
   "id": "971f9c7b-6eed-4569-92b5-f387e18e1950",
   "metadata": {},
   "outputs": [],
   "source": []
  }
 ],
 "metadata": {
  "kernelspec": {
   "display_name": "Python 3",
   "language": "python",
   "name": "python3"
  },
  "language_info": {
   "codemirror_mode": {
    "name": "ipython",
    "version": 3
   },
   "file_extension": ".py",
   "mimetype": "text/x-python",
   "name": "python",
   "nbconvert_exporter": "python",
   "pygments_lexer": "ipython3",
   "version": "3.7.10"
  }
 },
 "nbformat": 4,
 "nbformat_minor": 5
}
