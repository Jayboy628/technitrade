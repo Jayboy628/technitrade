{
 "cells": [
  {
   "cell_type": "code",
   "execution_count": 41,
   "id": "d3175fa5",
   "metadata": {},
   "outputs": [],
   "source": [
    "import boto3\n",
    "import tweepy\n",
    "import os\n",
    "from google.cloud import language_v1\n",
    "from google.oauth2.credentials import Credentials"
   ]
  },
  {
   "cell_type": "code",
   "execution_count": 36,
   "id": "85d03880",
   "metadata": {},
   "outputs": [],
   "source": [
    "consumer_key = 'rT3HjmQOVzNQNbmEHyk7Shm11'\n",
    "consumer_secret = 'tKbpKi8G2AdOlZsKPToJI61y0vcZFWvhn6xBd0SF2fpW94Cf5l'\n",
    "access_token = '1399910083308445698-SuiofGqMv05DHN9gOx02hnvhJNTa5I'\n",
    "access_token_secret = 'yXSZKxbQEvylJiYa22dhLYEmtCWoDk2jwEfAGwcPPdgYy'"
   ]
  },
  {
   "cell_type": "code",
   "execution_count": 37,
   "id": "40ec78c8",
   "metadata": {},
   "outputs": [],
   "source": [
    "def ReturnTwitterData(hashtag,number_tweets):\n",
    "    auth = tweepy.OAuthHandler(consumer_key, consumer_secret)\n",
    "    auth.set_access_token(access_token, access_token_secret)\n",
    "    api = tweepy.API(auth, wait_on_rate_limit=True)\n",
    "    hashtag = hashtag + \" -filter:retweets\"\n",
    "    number_tweets = number_tweets\n",
    "    return tweepy.Cursor(api.search, q=hashtag).items(number_tweets)\n",
    "    "
   ]
  },
  {
   "cell_type": "code",
   "execution_count": 42,
   "id": "455f4483",
   "metadata": {},
   "outputs": [],
   "source": [
    "def RetornaSentimentoGoogle(text_content):\n",
    "    os.environ[\"GOOGLE_APPLICATION_CREDENTIALS\"] = \"c:/data/service-account.json\"\n",
    "    client = language_v1.LanguageServiceClient()\n",
    "    type_ = language_v1.Document.Type.PLAIN_TEXT\n",
    "    document = {'content': text_content, 'type_': type_}\n",
    "    encoding_type = language_v1.EncodingType.UTF8\n",
    "    response = client.analyze_sentiment(request={'document': document, 'encoding_type': encoding_type})\n",
    "    return {'score' : response.document_sentiment.score , 'magnitude' : response.document_sentiment.magnitude}"
   ]
  },
  {
   "cell_type": "code",
   "execution_count": 45,
   "id": "f4508137",
   "metadata": {},
   "outputs": [],
   "source": []
  },
  {
   "cell_type": "code",
   "execution_count": 50,
   "id": "617851c2",
   "metadata": {},
   "outputs": [],
   "source": [
    "tweet = ReturnTwitterData('SPY',20)"
   ]
  },
  {
   "cell_type": "code",
   "execution_count": 54,
   "id": "e1edfee8",
   "metadata": {},
   "outputs": [],
   "source": [
    "score = RetornaSentimentoGoogle(\"I'm really sad\")"
   ]
  },
  {
   "cell_type": "code",
   "execution_count": 55,
   "id": "8aa50a28",
   "metadata": {},
   "outputs": [
    {
     "data": {
      "text/plain": [
       "{'score': -0.800000011920929, 'magnitude': 0.800000011920929}"
      ]
     },
     "execution_count": 55,
     "metadata": {},
     "output_type": "execute_result"
    }
   ],
   "source": [
    "score"
   ]
  },
  {
   "cell_type": "code",
   "execution_count": null,
   "id": "ee895daa",
   "metadata": {},
   "outputs": [],
   "source": []
  }
 ],
 "metadata": {
  "kernelspec": {
   "display_name": "Python 3",
   "language": "python",
   "name": "python3"
  },
  "language_info": {
   "codemirror_mode": {
    "name": "ipython",
    "version": 3
   },
   "file_extension": ".py",
   "mimetype": "text/x-python",
   "name": "python",
   "nbconvert_exporter": "python",
   "pygments_lexer": "ipython3",
   "version": "3.7.9"
  }
 },
 "nbformat": 4,
 "nbformat_minor": 5
}
